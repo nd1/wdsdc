{
 "cells": [
  {
   "cell_type": "raw",
   "metadata": {
    "slideshow": {
     "slide_type": "skip"
    }
   },
   "source": [
    "<script type=\"text/javascript\">\n",
    "\n",
    "$(document).ready(function(){\n",
    "\n",
    "    Reveal.configure({\n",
    "        transition: 'convex' // none/fade/slide/convex/concave/zoom\n",
    "    })\n",
    "});    \n",
    "</script>"
   ]
  },
  {
   "cell_type": "markdown",
   "metadata": {
    "slideshow": {
     "slide_type": "slide"
    }
   },
   "source": [
    "\n",
    "# <center>Forecasting Failure- Becoming a Data Scientist is Hard, But That's OK</center>\n",
    "\n",
    "\n",
    "<br/>\n",
    "<p> <b>Nicole Donnelly</b>\n",
    "\n"
   ]
  },
  {
   "cell_type": "markdown",
   "metadata": {
    "slideshow": {
     "slide_type": "slide"
    }
   },
   "source": [
    "# <center>Hi.</center>\n",
    "\n",
    "\n",
    "\n",
    "\n"
   ]
  },
  {
   "cell_type": "markdown",
   "metadata": {
    "slideshow": {
     "slide_type": "notes"
    }
   },
   "source": [
    "Hello! My name is Nicole Donnelly.\n",
    "\n",
    "Today I am going to talk about using the data science pipeline as a model to predict critical restaurant violations and explore my first year of becoming a data scientist. "
   ]
  },
  {
   "cell_type": "markdown",
   "metadata": {
    "slideshow": {
     "slide_type": "subslide"
    }
   },
   "source": [
    "# <center> Who Are You?  </center>"
   ]
  },
  {
   "cell_type": "markdown",
   "metadata": {
    "slideshow": {
     "slide_type": "fragment"
    }
   },
   "source": [
    "<center> How many people are employed as data scientists?  </center>\n",
    "<center> How many people call themselves data scientists, regardless of employment? </center>\n",
    "<center> How many people are trying to become a data scientist?  </center>\n",
    "<center> How many people are familiar with the data science pipeline?  </center>"
   ]
  },
  {
   "cell_type": "markdown",
   "metadata": {
    "slideshow": {
     "slide_type": "fragment"
    }
   },
   "source": [
    "<center><img src=\"./img/data_sciene_pipeline.png\" alt=\"Drawing\" align=\"middle\" style=\"width: 800px;\"/></center>"
   ]
  },
  {
   "cell_type": "markdown",
   "metadata": {
    "slideshow": {
     "slide_type": "subslide"
    }
   },
   "source": [
    "# <center> Who Am I? </center>"
   ]
  },
  {
   "cell_type": "markdown",
   "metadata": {
    "slideshow": {
     "slide_type": "fragment"
    }
   },
   "source": [
    "<center> I have been learning data sceince for about 18 months.  </center>\n",
    "<center> I am a recovering consultant.  </center>\n",
    "<center> I still feel weird calling myself a data scientist.  </center>"
   ]
  },
  {
   "cell_type": "markdown",
   "metadata": {
    "slideshow": {
     "slide_type": "notes"
    }
   },
   "source": [
    "I was working in computer forensics and electronic discvoery consulting and decided I needed a career change. I looked at a couple of options, project management and digital archiving, before finding data science. I took a few classes on Coursera and loved the variety and getting back to programming. I am more interested in in-person learning experiences so started taking classes at District Data Labs. I then completed the professional certificate in data science at Georgetown and I am currently the TA. I also completed the Data Science Immersive at Genral Assembly.\n",
    "\n",
    "Just received my first career change job offer. My title won't be \"data scientist\" but I will be working with data and helping others use their data so opportunities to use data science may present themselves.\n"
   ]
  },
  {
   "cell_type": "markdown",
   "metadata": {
    "slideshow": {
     "slide_type": "subslide"
    }
   },
   "source": [
    "# <center> I am not a PhD </center>"
   ]
  },
  {
   "cell_type": "markdown",
   "metadata": {
    "slideshow": {
     "slide_type": "notes"
    }
   },
   "source": [
    "I knew a few PhDs before I started down this road. I regularly knit with two PhDs and am friends with a few others. But once you start down this path it seems like every other person has a PhD. I don't even have a Masters. It wasn't important when I first started working after college- I went to work for the USG doing computer forensics before there were even degree programs in it. Used that to transition into electronic discovery and consulting so there was never time.\n",
    "\n",
    "So given that I am new to this, not employed with the title data scientist, and I am not a PhD, why am I up here talking to you about this?"
   ]
  },
  {
   "cell_type": "markdown",
   "metadata": {
    "slideshow": {
     "slide_type": "slide"
    }
   },
   "source": [
    "<center><img src=\"./img/MjAxMy1lZWNmYTI1OGEzZmNkZTMy.png\" alt=\"Drawing\" align=\"middle\" style=\"width: 800px;\"/></center>"
   ]
  },
  {
   "cell_type": "markdown",
   "metadata": {
    "slideshow": {
     "slide_type": "notes"
    }
   },
   "source": [
    "Basically, because I am willing to write talk proposals and put myself out there. I have a great support network that is very encouraging regarding that. My jobs have always involved teaching people as I learn. And I have to remember just because this is really new to me, doesn't mean that should change.\n",
    "\n",
    "I am also willing to get up here and tell you about the stupid shit I've done.\n",
    "\n",
    "When I first gave a talk about the project I will be showing you tonight, it was about the process, but I glossed over a lot of how hard this stuff is when you are new. I talked to a few people about doing the talk from that perspective, and they were all really receptive. I also was looking at the PyCon talks from this past year to see if anyone does talk about the hard part. I was really inspired by a talk I saw from Adrienne Lowe called \"Bake the Cookies, Wear the Dress: Connecting with Confident Authenticity\" especially this quote from Adrienne:\n"
   ]
  },
  {
   "cell_type": "markdown",
   "metadata": {
    "slideshow": {
     "slide_type": "slide"
    }
   },
   "source": [
    "### <center> \"We can't keep telling others that we're not born with it, but making it look like we are. </center>\n",
    "\n",
    "###  <center> We can't have it both ways.\" </center>\n",
    "\n",
    "#### Adrienne Lowe, [Bake the Cookies, Wear the Dress: Connecting with Confident Authenticity](https://www.youtube.com/watch?v=6Uj746j9Heo)"
   ]
  },
  {
   "cell_type": "markdown",
   "metadata": {
    "collapsed": true,
    "slideshow": {
     "slide_type": "notes"
    }
   },
   "source": [
    "\n",
    "\"We can't keep telling others that we're not born with it, but making it look like we are. We can't have it both ways.\"\n",
    "\n",
    "She was talking about tech in general, but it applies to a lot of things we do as adults.\n",
    "\n",
    "I am a relatively new knitter and I have also taken some basic crochet classes because it is a useful skill to know a little of as a knitter. My crochet instructor's day job involved running professional education programs. She said that one of the roughest thing about teaching adult learners is no matter what they are learning, most expect to be able to pick up new skills quickly and they forget learning is a process. When you combine that with being a woman trying to learn something when there are so few other women around you...\n"
   ]
  },
  {
   "cell_type": "markdown",
   "metadata": {
    "slideshow": {
     "slide_type": "slide"
    }
   },
   "source": [
    "<center><img src=\"./img/how_it_works.png\" alt=\"Drawing\" align=\"middle\" style=\"width: 600px;\"/></center>\n",
    "[XKCD, How it Works](http://xkcd.com/385/)"
   ]
  },
  {
   "cell_type": "markdown",
   "metadata": {
    "slideshow": {
     "slide_type": "notes"
    }
   },
   "source": [
    "Let's just say, we are not the best at cutting ourselves a break when learning given things most of us have probably had to deal with at one point or another."
   ]
  },
  {
   "cell_type": "markdown",
   "metadata": {
    "slideshow": {
     "slide_type": "slide"
    }
   },
   "source": [
    "<center><img src=\"./img/data_sciene_pipeline.png\" alt=\"Drawing\" align=\"middle\" style=\"width: 800px;\"/></center>"
   ]
  },
  {
   "cell_type": "markdown",
   "metadata": {
    "slideshow": {
     "slide_type": "notes"
    }
   },
   "source": [
    "So let's get back to the data science pipeline. The data science certificate program at Georgetown teaches the data science pipeline as a model for approaching projects and structures the classes to flow this way. It looks nice and straight forward, doesn't it?"
   ]
  },
  {
   "cell_type": "markdown",
   "metadata": {
    "slideshow": {
     "slide_type": "slide"
    }
   },
   "source": [
    "<center><img src=\"./img/owze6.jpg\" alt=\"Drawing\" align=\"middle\" style=\"width: 600px;\"/></center>\n",
    "[https://imgflip.com/i/owze6](https://imgflip.com/i/owze6)"
   ]
  },
  {
   "cell_type": "markdown",
   "metadata": {
    "slideshow": {
     "slide_type": "notes"
    }
   },
   "source": [
    "If only it were that easy."
   ]
  },
  {
   "cell_type": "markdown",
   "metadata": {
    "slideshow": {
     "slide_type": "slide"
    }
   },
   "source": [
    "<center><img src=\"./img/more_like.png\" alt=\"Drawing\" align=\"middle\" style=\"width: 800px;\"/></center>"
   ]
  },
  {
   "cell_type": "markdown",
   "metadata": {
    "slideshow": {
     "slide_type": "notes"
    }
   },
   "source": [
    "It looks more like this."
   ]
  },
  {
   "cell_type": "markdown",
   "metadata": {
    "slideshow": {
     "slide_type": "slide"
    }
   },
   "source": [
    "<center><img src=\"./img/feels_like.png\" alt=\"Drawing\" align=\"middle\" style=\"width: 800px;\"/></center>"
   ]
  },
  {
   "cell_type": "markdown",
   "metadata": {
    "slideshow": {
     "slide_type": "notes"
    }
   },
   "source": [
    "And some days it feels a lot more like this."
   ]
  },
  {
   "cell_type": "markdown",
   "metadata": {
    "slideshow": {
     "slide_type": "slide"
    }
   },
   "source": [
    "## <center> Hypothesis </center>\n",
    "\n",
    "Foodborne illness outbreaks affect millions of people annually. The city of Washington, DC, like most cities, has limited resources to inspect food establishments for critical violations that lead to these outbreaks.\n",
    "We can use machine learning to predict when a critical violation is likely to occur and prioritize inspections to catch these violations sooner, mitigating foodborne illness outbreaks and more effectively deploying limited resources.\n"
   ]
  },
  {
   "cell_type": "markdown",
   "metadata": {
    "slideshow": {
     "slide_type": "notes"
    }
   },
   "source": [
    "Before we can get to the data though, we need a hypothesis. Here is the hypothesis for the Capstone I did at General Assembly. I decided to work on this after talking to [Carey Anne Nadeau](http://www.opendatanation.com/about/) at [Open Data Nation](http://www.opendatanation.com/). My project was going to attempt to replicate [Chicago’s Food Inspection Forecasting](https://chicago.github.io/food-inspections-evaluation/) project using Python and data about DC. I started working on it by myself, but was later joined by another classmate from my cohort, Jonathan Boyle.\n",
    "\n",
    "As far as my hypothesis for myself in this whole proposition... "
   ]
  },
  {
   "cell_type": "markdown",
   "metadata": {
    "slideshow": {
     "slide_type": "subslide"
    }
   },
   "source": [
    "<center><img src=\"./img/56767441.jpg\" alt=\"Drawing\" align=\"middle\" style=\"width: 600px;\"/></center>\n",
    "[http://es.memegenerator.net/instance/56767441](http://es.memegenerator.net/instance/56767441)"
   ]
  },
  {
   "cell_type": "markdown",
   "metadata": {
    "slideshow": {
     "slide_type": "notes"
    }
   },
   "source": [
    "It was easy- I was going to be a data scientist!"
   ]
  },
  {
   "cell_type": "markdown",
   "metadata": {
    "slideshow": {
     "slide_type": "slide"
    }
   },
   "source": [
    "<center><img src=\"./img/data.png\" alt=\"Drawing\" align=\"middle\" style=\"width: 600px;\"/></center>\n",
    "\n",
    "**Instance:** an inspection\n",
    "\n",
    "**Features:** the data about the instance\n",
    "\n",
    "**Prediction:** will there be a critical violation"
   ]
  },
  {
   "cell_type": "markdown",
   "metadata": {
    "slideshow": {
     "slide_type": "notes"
    }
   },
   "source": [
    "Once I knew the question I was going to attempt to answer, I started to build my data set. \n",
    "\n",
    "My goal was to build a data set where the instance was a single inspection conducted at a restaurant. That inspection would be described by a number of features: what was the temperature on the days prior? How many yelp ratings did the restaurant have? What was their star rating in Yelp? What kind of food did they serve? How many crime incident and 311 service requests were there in a 1/2 mile radius on the 3 days prior to the inspection? Who performed the inspection? What were the results of the inspection prior to this one?"
   ]
  },
  {
   "cell_type": "markdown",
   "metadata": {
    "slideshow": {
     "slide_type": "subslide"
    }
   },
   "source": [
    "<center><img src=\"./img/mds_f.png\" alt=\"Drawing\" align=\"middle\" style=\"width: 550px;\"/></center>\n",
    "\n",
    "[Marketing Distillery](http://www.marketingdistillery.com/2014/11/29/is-data-science-a-buzzword-modern-data-scientist-defined/)"
   ]
  },
  {
   "cell_type": "markdown",
   "metadata": {
    "slideshow": {
     "slide_type": "notes"
    }
   },
   "source": [
    "On my personal track to becoming a data scientist, I also started with the data. Like what did I need to know? I figured I had enough from each category to make this a viable choice. And I had spent the last 10 years as a consultant where I was fond of saying, much to my boss's irritation, 15% of the job was the skills that got you there and the other 85% was figuring out how to do the rest on the fly while making it look easy. Time to start ingesting info!"
   ]
  },
  {
   "cell_type": "markdown",
   "metadata": {
    "slideshow": {
     "slide_type": "slide"
    }
   },
   "source": [
    "<center><img src=\"./img/ingest.png\" alt=\"Drawing\" align=\"middle\" style=\"width: 600px;\"/></center>"
   ]
  },
  {
   "cell_type": "markdown",
   "metadata": {
    "slideshow": {
     "slide_type": "notes"
    }
   },
   "source": [
    "When I started the restaurant project, it was with the understanding the DOH data was available as csvs. It was compiled by a 3rd party and had stopped updating over a year earlier. I was able to get original scraping code later and it was due to changes in website.\n",
    "\n",
    "I chose to go to the source and scrape instead of using the data avaible to me. DC makes the data available but it is not “open”. Since it was my first time writing a scraper I was of course blocked eventually. I am currently looking at rebuilding the scraper into something sustainable to collect this data going forward.\n",
    "\n",
    "Getting data from some APIs, like Forecast.io, SeeClickFix, was straightforward.\n",
    "\n",
    "But I had difficulties with getting data I needed from Yelp. You need the business id to get specific infromation and the search feature can be a bit cumbersome to work with. This limited the number of inspections I was working with since the decision was made up front to only use items we could connect to Yelp data.\n",
    "\n",
    "Most city data available as csvs.\n",
    "\n",
    "As far as the ingestion phase to becoming a data scientist..."
   ]
  },
  {
   "cell_type": "markdown",
   "metadata": {
    "slideshow": {
     "slide_type": "subslide"
    }
   },
   "source": [
    "<center><img src=\"./img/elearning-firehose.jpg\" alt=\"Drawing\" align=\"middle\" style=\"width: 600px;\"/></center>\n",
    "\n",
    "[http://blogs.articulate.com/word-of-mouth/weekly-recap-drinking-from-the-e-learning-fire-hose/](http://blogs.articulate.com/word-of-mouth/weekly-recap-drinking-from-the-e-learning-fire-hose/)"
   ]
  },
  {
   "cell_type": "markdown",
   "metadata": {
    "slideshow": {
     "slide_type": "notes"
    }
   },
   "source": [
    "When I started my program at Georgetown, it felt a lot like this.\n",
    "\n",
    "Wow. Talk about taking on a lot. I was quickly overwhelmed about what I had decided to do. And then I was laid off. I was laid off from a job I had come to dislike, that I had been plotting to leave for nearly 4.5 years. And instead of being elated I was fairly devastated. It was the week of my 43rd birthday. I had been receiving a pay check every week of my life since I was 15 and I had never been laid off before. I always did things my way. \n",
    "\n",
    "Luckily I have a really supportive partner who, to this day, claims day drinking in your flannel pajamas while consuming Ben and Jerry by the pint is not a valid answer for anything in life. Since we have been together for so long, I am used to these eccentricities of his and said \"OK\" while giving him that look behind his back that let him know I thought he was totally wrong. But he did give me the kick in the ass I needed and when I was feeling really overwhelmed just said \"why don't you put the job search on hold until after you complete the certificate and then see about making this change happen.\" If you have anyone like that in your life, don't take it for granted. \n",
    "\n",
    "Even luckier, getting laid off came with a severance check so this was a very realistic option."
   ]
  },
  {
   "cell_type": "markdown",
   "metadata": {
    "slideshow": {
     "slide_type": "slide"
    }
   },
   "source": [
    "<center><img src=\"./img/wrangle.png\" alt=\"Drawing\" align=\"middle\" style=\"width: 550px;\"/></center>\n",
    "**Clean the data**\n",
    "\n",
    "**Create the instances**\n",
    "\n",
    "**Come to terms with features**\n",
    "\n",
    "**Feature engineering**\n"
   ]
  },
  {
   "cell_type": "markdown",
   "metadata": {
    "slideshow": {
     "slide_type": "notes"
    }
   },
   "source": [
    "Now that we have all that information, what do we do with it?\n",
    "\n",
    "As a new learner performing a capstone, I decided to try a few different things out.\n",
    "\n",
    "I used pandas to clean/ munge csvs and do some feature engineering. \n",
    "I stored some of the api data in mongodb, and pulled into dataframes using python. \n",
    "And I ultimately saved different wrangled data sets into sqlite for joining\n",
    "\n",
    "At this point I had to put some data I wanted to use aside-- age of the business and whether there was a liquor license -- because there was no easy way to join that information into the data set because inconsistent naming in my various data sources and I had a deadline to meet. (It is really good someone asked to join me on my project, otherwise I would still be wrangling the data. Ok, I actually still am, but I did stop earlier to complete this project.) \n",
    "\n",
    "I also did some feature engineering to create features based on the data I had. For example, how could I use the resturant's inspection history? By incorporating the results of the previous inspection with the inspection instance. I also added crime and 311 service request data by computing the number of incidents in a 1/2 mile radius for the 3 days prior. And weather info was added by computing the average high temperature for the past 3 days."
   ]
  },
  {
   "cell_type": "markdown",
   "metadata": {
    "slideshow": {
     "slide_type": "subslide"
    }
   },
   "source": [
    "<center><img src=\"./img/8360.jpg\" alt=\"Drawing\" align=\"middle\" style=\"width: 600px;\"/></center>\n",
    "\n",
    "[http://cobweb.cs.uga.edu/~squinn/courses/fa16/csci8360/](http://cobweb.cs.uga.edu/~squinn/courses/fa16/csci8360/)"
   ]
  },
  {
   "cell_type": "markdown",
   "metadata": {
    "slideshow": {
     "slide_type": "notes"
    }
   },
   "source": [
    "On my personal track, when it came time to start wrangling everything I was ingesting, I started to have a bit of a crisis. The program at Georgetown was overwhelming. Now I had too much time to figure it out and I felt like I wasn't figuring it out. I couldn't quite wrangle everything I was ingesting. \n",
    "\n",
    "So, what else to do but ingest more?? GA announced they were going to start a data science immersive program and I decided to jump in. And both of my programs overlapped. \n",
    "\n",
    "But, no matter how counter intuitive it was, it actually ended up being the best answer for me. GA showed me just how much I had learned in the Georgetown program. The faculty at Georgetown was impressed at how I was jumping into everything and asked me to become the next Teaching Assistant. I felt physically nauseous when I was asked since it was the weekend after I nearly had a melt down over the statistics class because I felt like I was just not getting it. When I stepped back and thought about it, everything was falling in place. I would have some room to breathe and stop beating myself up over not getting everything the first time and I would get to sit through the class again (two more times actually). I would have to lead labs, but I wasn't being asked to know all the answers. "
   ]
  },
  {
   "cell_type": "markdown",
   "metadata": {
    "slideshow": {
     "slide_type": "slide"
    }
   },
   "source": [
    "##  <center> Which estimator? </center>\n",
    "## <center>  All of them </center> \n",
    "<center><img src=\"./img/compute.png\" alt=\"Drawing\" align=\"middle\" style=\"width: 600px;\"/></center>"
   ]
  },
  {
   "cell_type": "markdown",
   "metadata": {
    "slideshow": {
     "slide_type": "notes"
    }
   },
   "source": [
    "So now it was time to make some magic happen! This is my first pipeline in scikit-learn. It was one of those things that took me a little while to get. It didn't actually click with me until I sat through the machine learning class the second time at Georgetown. The key for me to understand it was actually understanding the use of OO programing to create custom transformers. \n",
    "\n",
    "Pipelines insure you are performing processing the data the same way each time.\n",
    "OO lets you write custom transformers\n",
    "In my project, I used feature union to select columns and apply different scalers based on data type. Select from model selects features based on importance weight. Data is then modeled with the estimator\n",
    "\n",
    "But which estimator to use for my data? All of them.\n",
    "\n",
    "The scikit-learn API actually makes it really easy to do that and as someone learning, with a tenuous grasp on the statistics behind all this. \n",
    "\n",
    "Meanwhile, in my process..."
   ]
  },
  {
   "cell_type": "markdown",
   "metadata": {
    "slideshow": {
     "slide_type": "subslide"
    }
   },
   "source": [
    "<center><img src=\"./img/1dpyce.jpg\" alt=\"Drawing\" align=\"middle\" style=\"width: 600px;\"/></center>\n",
    "\n",
    "[https://imgflip.com/i/1dpyce](https://imgflip.com/i/1dpyce)"
   ]
  },
  {
   "cell_type": "markdown",
   "metadata": {
    "slideshow": {
     "slide_type": "notes"
    }
   },
   "source": [
    "Pipelines may have finally clicked but I wasn't getting the results I was hoping for. It was a lot at once and I still felt like it was not enough.\n",
    "\n",
    "Does anyone remember what is after compute?"
   ]
  },
  {
   "cell_type": "markdown",
   "metadata": {
    "slideshow": {
     "slide_type": "slide"
    }
   },
   "source": [
    "<img src=\"./img/visualize.png\" alt=\"Drawing\" align=\"left\" style=\"width: 200px;\"/>\n",
    "<center><img src=\"./img/raw.gif\" alt=\"Drawing\" align=\"middle\" style=\"width: 500px;\"/></center>\n",
    "\n",
    "<[https://www.tenor.co/search/roll-cat-gifs](https://www.tenor.co/search/roll-cat-gifs)"
   ]
  },
  {
   "cell_type": "markdown",
   "metadata": {
    "collapsed": true,
    "slideshow": {
     "slide_type": "subslide"
    }
   },
   "source": [
    "<center><img src=\"./img/results.png\" alt=\"Drawing\" align=\"middle\" style=\"width: 800px;\"/></center>"
   ]
  },
  {
   "cell_type": "markdown",
   "metadata": {
    "collapsed": true,
    "slideshow": {
     "slide_type": "notes"
    }
   },
   "source": [
    "With the training set the best AUC was using linear svc (.56). Out of sample, well, we might as well flip a coin.\n"
   ]
  },
  {
   "cell_type": "markdown",
   "metadata": {
    "collapsed": true,
    "slideshow": {
     "slide_type": "subslide"
    }
   },
   "source": [
    "<center><img src=\"./img/2016-03-15-dark-side-of-science-meme.jpg\" alt=\"Drawing\" align=\"middle\" style=\"width: 600px;\"/></center>\n",
    "[http://p.migdal.pl/2016/03/15/data-science-intro-for-math-phys-background.html](http://p.migdal.pl/2016/03/15/data-science-intro-for-math-phys-background.html)"
   ]
  },
  {
   "cell_type": "markdown",
   "metadata": {
    "slideshow": {
     "slide_type": "notes"
    }
   },
   "source": [
    "I was feeling pretty low at this point.\n",
    "\n",
    "I tried all sorts of things to make the data I had produce better results. I got so irritated with it, that I threw all the data at the estimators instead of using the feature selection and then my training scores went through the roof. I was sceptical of the results and when talking about the project in a job interview before I could figure out was going on, brought them up. To my credit, I at least maintained my scepticism about the scores and when I finally figured out how I had contaminated the training sample, I emailed the interviewer and admitted my mistake. I never heard back, but I at least felt better about myself. \n",
    "\n",
    "(I had used the actual inspection data training the model instead of the previous report data.\n",
    "\n",
    "Sometimes you can only get so much out of your data before you need to either build it up some more or move on. \n",
    "On the project side, I had a class imbalance issue- only 6% of reports had no critical violations but based on experience of people that have done this before- 20-30% fail in a pass/ fail situation. Stratifying the data for training didn't help because there was just not enough info to overcome this. I need to build a better data set with more depth. We were working on this without the benefit of the DOH so did not have the necessary subject matter expertise or even historical data to get great results.\n",
    "\n",
    "As for me, I was putting a lot of work into this but sometimes it felt like it was not enough. When I was getting interviews for jobs with the title \"data scientist\" things weren't the right fit.\n",
    "\n",
    "But all is not lost."
   ]
  },
  {
   "cell_type": "markdown",
   "metadata": {
    "slideshow": {
     "slide_type": "slide"
    }
   },
   "source": [
    "<center><img src=\"./img/report.png\" alt=\"Drawing\" align=\"middle\" style=\"width: 600px;\"/></center>\n",
    "\n",
    "**<center> The scores were not great, but reprioritizing the inspections using the model confidence scores yields results. </center>**"
   ]
  },
  {
   "cell_type": "markdown",
   "metadata": {
    "slideshow": {
     "slide_type": "notes"
    }
   },
   "source": [
    "Sometimes that is all you can get out of your data. \n",
    "\n",
    "But there is more that I can do:\n",
    "* Update the dataset-- only using items I pulled Yelp data for, go back and improve that data\n",
    "* Get more data-- use the original dataset to supplement info\n",
    "* Get more domain knowledge-- determined crit violations based on website description. Confirm how they work\n",
    "\n",
    "Poor scores do not mean failure, they are just a starting point. Even though the score didn't say much, we don't know what they are already doing.\n"
   ]
  },
  {
   "cell_type": "markdown",
   "metadata": {
    "slideshow": {
     "slide_type": "subslide"
    }
   },
   "source": [
    "<center><img src=\"./img/this-is-datascience.jpg\" alt=\"Drawing\" align=\"middle\" style=\"width: 600px;\"/></\n",
    "center>\n",
    "\n",
    "<center>Data science is hard.</center>\n",
    "\n",
    "<center>Things won't always work, and that is ok.</center>\n",
    "\n",
    "<center>Poor scores are a let down, but use them as motivation to build something better.</center>\n",
    "\n",
    "<center>Build up your support network and don't be afraid to try something- whether a new project or a job you think is beyond you.</center>\n",
    "\n",
    "<center>Modeling is only as good as the data going in. Sometimes, you won’t be able to get any more from your data. Other times, they are just the starting point.</center>\n",
    "\n",
    "[https://www.surf.co/category/this-is-sparta](https://www.surf.co/category/this-is-sparta)"
   ]
  },
  {
   "cell_type": "markdown",
   "metadata": {
    "slideshow": {
     "slide_type": "notes"
    }
   },
   "source": [
    "As for the report on me? Things are going ok. I found a job I can transition into with a pay cut I can handle (I am moving a career where I had 20+ years experience to one I have been working at for barely 20 months, a pay cut is inevitable.) My title may not be \"data scientist\" but I will be working with data and using my consulting skills to help people with their data. I can do some data science projects as well, as I help people and this will give me time to learn more and grow into the role. \n",
    "\n",
    "So my take away for those of you just starting down this road too..."
   ]
  },
  {
   "cell_type": "markdown",
   "metadata": {
    "slideshow": {
     "slide_type": "slide"
    }
   },
   "source": [
    "# <center>Stay in touch!</center>\n",
    "\n",
    "\n",
    "\n",
    "* Twitter: [@NicoleADonnelly](https://twitter.com/NicoleADonnelly)\n",
    "* GitHub: [nd1](https://github.com/nd1), [DC Restaurant Violation Forecasting](https://github.com/nd1/DC_RestaurantViolationForecasting)\n",
    "* LinkedIn: [nicoleadonnelly](https://www.linkedin.com/in/nicoleadonnelly)\n",
    "* Email: nicole@nicoledonnelly.me"
   ]
  }
 ],
 "metadata": {
  "celltoolbar": "Slideshow",
  "kernelspec": {
   "display_name": "Python 3",
   "language": "python",
   "name": "python3"
  },
  "language_info": {
   "codemirror_mode": {
    "name": "ipython",
    "version": 3
   },
   "file_extension": ".py",
   "mimetype": "text/x-python",
   "name": "python",
   "nbconvert_exporter": "python",
   "pygments_lexer": "ipython3",
   "version": "3.5.1"
  }
 },
 "nbformat": 4,
 "nbformat_minor": 1
}
